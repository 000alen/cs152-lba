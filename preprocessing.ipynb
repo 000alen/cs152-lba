{
 "cells": [
  {
   "cell_type": "code",
   "execution_count": 1,
   "metadata": {},
   "outputs": [],
   "source": [
    "import csv \n",
    "import json\n",
    "\n",
    "from unidecode import unidecode\n",
    "\"\"\"Used to normalize names to ascii, since German names have umlauts and other special characters\"\"\""
   ]
  },
  {
   "cell_type": "code",
   "execution_count": 11,
   "metadata": {},
   "outputs": [],
   "source": [
    "headers = [\n",
    "    \"name\",\n",
    "    \"link\",\n",
    "    \"rating\",\n",
    "    \"budget\",\n",
    "    \"closed_days\",\n",
    "    \"work\",\n",
    "    \"wifi\",\n",
    "    \"dietary_restrictions\",\n",
    "    \"card_payment\",\n",
    "    \"size\",\n",
    "    \"opening_times\",\n",
    "    \"distance_walking\",\n",
    "    \"distance_biking\",\n",
    "    \"distance_transit\",\n",
    "    \"nearest_subway\",\n",
    "]\n",
    "\"\"\"Headers for the CSV file. We use these to map the JSON keys, as well as to build the predicates in the KB.\"\"\"\n",
    "\n",
    "ignored = [\n",
    "    \"link\",\n",
    "    \"opening_times\",\n",
    "    \"distance_biking\",\n",
    "    \"distance_transit\",\n",
    "    \"nearest_subway\",\n",
    "    \"closed_days\",\n",
    "]\n",
    "\"\"\"Keys that are ignored in the CSV file, since they are not used in the KB.\"\"\"\n"
   ]
  },
  {
   "cell_type": "code",
   "execution_count": 19,
   "metadata": {},
   "outputs": [],
   "source": [
    "data = []\n",
    "\n",
    "with open('./data/data.csv', 'r') as f:\n",
    "    reader = csv.reader(f)\n",
    "\n",
    "    for row in reader:\n",
    "        row = [x for i, x in enumerate(row) if headers[i] not in ignored]\n",
    "        row_headers = [x for x in headers if x not in ignored]\n",
    "\n",
    "        parsed_row = dict(zip(row_headers, row))\n",
    "\n",
    "        # Normalize the name by converting it to lowercase, replacing spaces with underscores, removing periods and converting special characters to ascii\n",
    "        parsed_row[\"name\"] = unidecode(parsed_row[\"name\"].replace(\" \", \"_\")).lower().replace(\".\", \"\")\n",
    "\n",
    "        data.append(parsed_row)\n",
    "\n",
    "with open('./data/data.json', 'w') as f:\n",
    "    json.dump(data, f)"
   ]
  },
  {
   "cell_type": "code",
   "execution_count": 20,
   "metadata": {},
   "outputs": [],
   "source": [
    "defaults = {\n",
    "    \"size\": '\"M\"',\n",
    "}\n",
    "\"\"\"Default values for the predicates in the KB. We use these to fill in missing values in the CSV file.\"\"\""
   ]
  },
  {
   "cell_type": "code",
   "execution_count": 24,
   "metadata": {},
   "outputs": [],
   "source": [
    "with open('./kb.pl', 'w') as f:\n",
    "    for i, row in enumerate(data):\n",
    "        if i == 0:\n",
    "            # Skip the first row, since it contains the headers\n",
    "            continue\n",
    "        \n",
    "        for key, value in row.items():\n",
    "            if key == \"name\":\n",
    "                # `cafe/1` is a special predicate that is used to indicate that a place is a cafe\n",
    "                f.write(f\"cafe({value}).\\n\")\n",
    "            elif key == \"budget\":\n",
    "                # Normalize the budget values by converting them to integers (average of the range)\n",
    "                value = 5 if value == \"1-10\" else value\n",
    "                value = 15 if value == \"10-20\" else value\n",
    "                value = 25 if value == \"20-30\" else value\n",
    "            else:\n",
    "                # Normalize the other values by converting them to uppercase and replacing spaces with underscores,\n",
    "                # as well as escaping strings with double quotes\n",
    "                value = '\"Y\"' if value == \"Y\" else value\n",
    "                value = '\"N\"' if value == \"N\" else value\n",
    "                value = '\"L\"' if value == \"L\" else value\n",
    "                value = '\"L\"' if value == \"M\" else value\n",
    "                value = '\"S\"' if value == \"S\" else value\n",
    "                value = f'\"{value}\"' if \"-\" in value else value\n",
    "\n",
    "                value = value.replace(\" \", \"_\")\n",
    "\n",
    "            if key in defaults and value == \"\":\n",
    "                value = defaults[key]\n",
    "                \n",
    "            f.write(f\"{key}({row['name']}, {value}).\\n\")\n",
    "\n",
    "        f.write(\"\\n\")"
   ]
  }
 ],
 "metadata": {
  "kernelspec": {
   "display_name": "base",
   "language": "python",
   "name": "python3"
  },
  "language_info": {
   "codemirror_mode": {
    "name": "ipython",
    "version": 3
   },
   "file_extension": ".py",
   "mimetype": "text/x-python",
   "name": "python",
   "nbconvert_exporter": "python",
   "pygments_lexer": "ipython3",
   "version": "3.11.3"
  }
 },
 "nbformat": 4,
 "nbformat_minor": 2
}
